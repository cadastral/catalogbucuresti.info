{
 "cells": [
  {
   "cell_type": "code",
   "execution_count": 1,
   "metadata": {},
   "outputs": [],
   "source": [
    "import os\n",
    "import json\n",
    "import random\n",
    "\n",
    "from icecream import ic\n",
    "from bs4 import BeautifulSoup"
   ]
  },
  {
   "cell_type": "code",
   "execution_count": 2,
   "metadata": {},
   "outputs": [
    {
     "name": "stderr",
     "output_type": "stream",
     "text": [
      "ic| len(html_files): 18044\n"
     ]
    },
    {
     "data": {
      "text/plain": [
       "18044"
      ]
     },
     "execution_count": 2,
     "metadata": {},
     "output_type": "execute_result"
    }
   ],
   "source": [
    "HTML_DETAILS_ROOT = \"./details-html\"\n",
    "\n",
    "html_files = os.listdir(HTML_DETAILS_ROOT)\n",
    "ids = [int(p.split(\".\")[0]) for p in html_files]\n",
    "\n",
    "ic(len(html_files))"
   ]
  },
  {
   "cell_type": "code",
   "execution_count": 3,
   "metadata": {},
   "outputs": [],
   "source": [
    "def parse_detail(id: int) -> dict:\n",
    "    try:\n",
    "        with open(f\"{HTML_DETAILS_ROOT}/{id}.html\", \"r\", encoding=\"utf-8\") as fh:\n",
    "            soup = BeautifulSoup(fh.read(), features=\"html.parser\")\n",
    "\n",
    "        # IMAGES\n",
    "        # ------------------------------------------------------\n",
    "        images_soup = soup.find(\"div\", \"main-image-c\").find_all(\"img\")\n",
    "        images = [a[\"src\"] for a in images_soup]\n",
    "\n",
    "        # ZONA\n",
    "        # ------------------------------------------------------\n",
    "        zona = soup.find(\"h4\").text.replace(\"Zona\", \"\").strip()\n",
    "\n",
    "        # PROFIL ??\n",
    "        # ------------------------------------------------------\n",
    "        profil = (\n",
    "            soup.find(\"ul\", \"nav\").text.replace(\"Profil (\", \"\").replace(\")\", \"\").strip()\n",
    "        )\n",
    "        profil = int(profil)\n",
    "\n",
    "        # PANELS\n",
    "        # ------------------------------------------------------\n",
    "        panels = soup.find_all(\"div\", \"panel\")\n",
    "        panels = {\n",
    "            p.find(\"h6\", \"panel-title\")\n",
    "            .text.strip(): p.find(\"div\", \"panel-body\")\n",
    "            .children\n",
    "            for p in panels\n",
    "        }\n",
    "\n",
    "        panels = {p[0]: [i for i in p[1] if i.name == \"div\"] for p in panels.items()}\n",
    "        panels = {\n",
    "            p[0]: {\n",
    "                i.find(\"label\")\n",
    "                .text.strip(): i.find(\"div\", \"attribute-value\")\n",
    "                .text.strip()\n",
    "                for i in p[1]\n",
    "            }\n",
    "            for p in panels.items()\n",
    "        }\n",
    "\n",
    "        # ------------------------------------------------------\n",
    "        result = {\n",
    "            \"id\": id,\n",
    "            \"zona\": zona,\n",
    "            \"images\": images,\n",
    "            \"profil\": profil,\n",
    "            **panels,\n",
    "        }\n",
    "\n",
    "        # print(result)\n",
    "        return result\n",
    "    except:\n",
    "        ic(f\"Error on {id}\")\n",
    "        raise"
   ]
  },
  {
   "cell_type": "code",
   "execution_count": 6,
   "metadata": {},
   "outputs": [
    {
     "name": "stderr",
     "output_type": "stream",
     "text": [
      "ic| f\"Error on {id}\": 'Error on 10015'\n"
     ]
    },
    {
     "ename": "AttributeError",
     "evalue": "'NoneType' object has no attribute 'find_all'",
     "output_type": "error",
     "traceback": [
      "\u001b[1;31m---------------------------------------------------------------------------\u001b[0m",
      "\u001b[1;31mAttributeError\u001b[0m                            Traceback (most recent call last)",
      "\u001b[1;32mc:\\Users\\sabin.purice\\Google Drive\\__DEFINIT\\city-org\\sync\\catalogbucuresti.info\\parse_details.ipynb Cell 4'\u001b[0m in \u001b[0;36m<cell line: 9>\u001b[1;34m()\u001b[0m\n\u001b[0;32m      <a href='vscode-notebook-cell:/c%3A/Users/sabin.purice/Google%20Drive/__DEFINIT/city-org/sync/catalogbucuresti.info/parse_details.ipynb#ch0000003?line=0'>1</a>\u001b[0m \u001b[39m# id = 2501\u001b[39;00m\n\u001b[0;32m      <a href='vscode-notebook-cell:/c%3A/Users/sabin.purice/Google%20Drive/__DEFINIT/city-org/sync/catalogbucuresti.info/parse_details.ipynb#ch0000003?line=1'>2</a>\u001b[0m \u001b[39m# id = random.choice(ids)\u001b[39;00m\n\u001b[0;32m      <a href='vscode-notebook-cell:/c%3A/Users/sabin.purice/Google%20Drive/__DEFINIT/city-org/sync/catalogbucuresti.info/parse_details.ipynb#ch0000003?line=2'>3</a>\u001b[0m \n\u001b[1;32m   (...)\u001b[0m\n\u001b[0;32m      <a href='vscode-notebook-cell:/c%3A/Users/sabin.purice/Google%20Drive/__DEFINIT/city-org/sync/catalogbucuresti.info/parse_details.ipynb#ch0000003?line=5'>6</a>\u001b[0m \n\u001b[0;32m      <a href='vscode-notebook-cell:/c%3A/Users/sabin.purice/Google%20Drive/__DEFINIT/city-org/sync/catalogbucuresti.info/parse_details.ipynb#ch0000003?line=6'>7</a>\u001b[0m \u001b[39m# ----------------------------------------------------------\u001b[39;00m\n\u001b[1;32m----> <a href='vscode-notebook-cell:/c%3A/Users/sabin.purice/Google%20Drive/__DEFINIT/city-org/sync/catalogbucuresti.info/parse_details.ipynb#ch0000003?line=8'>9</a>\u001b[0m details \u001b[39m=\u001b[39m [parse_detail(\u001b[39mid\u001b[39m) \u001b[39mfor\u001b[39;00m \u001b[39mid\u001b[39m \u001b[39min\u001b[39;00m ids]\n\u001b[0;32m     <a href='vscode-notebook-cell:/c%3A/Users/sabin.purice/Google%20Drive/__DEFINIT/city-org/sync/catalogbucuresti.info/parse_details.ipynb#ch0000003?line=10'>11</a>\u001b[0m \u001b[39mwith\u001b[39;00m \u001b[39mopen\u001b[39m(\u001b[39m\"\u001b[39m\u001b[39mdetails.json\u001b[39m\u001b[39m\"\u001b[39m, \u001b[39m\"\u001b[39m\u001b[39mw\u001b[39m\u001b[39m\"\u001b[39m, encoding\u001b[39m=\u001b[39m\u001b[39m\"\u001b[39m\u001b[39mutf-8\u001b[39m\u001b[39m\"\u001b[39m) \u001b[39mas\u001b[39;00m fh:\n\u001b[0;32m     <a href='vscode-notebook-cell:/c%3A/Users/sabin.purice/Google%20Drive/__DEFINIT/city-org/sync/catalogbucuresti.info/parse_details.ipynb#ch0000003?line=11'>12</a>\u001b[0m     json\u001b[39m.\u001b[39mdump(details, fh, sort_keys\u001b[39m=\u001b[39m\u001b[39mTrue\u001b[39;00m, indent\u001b[39m=\u001b[39m\u001b[39m2\u001b[39m, ensure_ascii\u001b[39m=\u001b[39m\u001b[39mFalse\u001b[39;00m)\n",
      "\u001b[1;32mc:\\Users\\sabin.purice\\Google Drive\\__DEFINIT\\city-org\\sync\\catalogbucuresti.info\\parse_details.ipynb Cell 4'\u001b[0m in \u001b[0;36m<listcomp>\u001b[1;34m(.0)\u001b[0m\n\u001b[0;32m      <a href='vscode-notebook-cell:/c%3A/Users/sabin.purice/Google%20Drive/__DEFINIT/city-org/sync/catalogbucuresti.info/parse_details.ipynb#ch0000003?line=0'>1</a>\u001b[0m \u001b[39m# id = 2501\u001b[39;00m\n\u001b[0;32m      <a href='vscode-notebook-cell:/c%3A/Users/sabin.purice/Google%20Drive/__DEFINIT/city-org/sync/catalogbucuresti.info/parse_details.ipynb#ch0000003?line=1'>2</a>\u001b[0m \u001b[39m# id = random.choice(ids)\u001b[39;00m\n\u001b[0;32m      <a href='vscode-notebook-cell:/c%3A/Users/sabin.purice/Google%20Drive/__DEFINIT/city-org/sync/catalogbucuresti.info/parse_details.ipynb#ch0000003?line=2'>3</a>\u001b[0m \n\u001b[1;32m   (...)\u001b[0m\n\u001b[0;32m      <a href='vscode-notebook-cell:/c%3A/Users/sabin.purice/Google%20Drive/__DEFINIT/city-org/sync/catalogbucuresti.info/parse_details.ipynb#ch0000003?line=5'>6</a>\u001b[0m \n\u001b[0;32m      <a href='vscode-notebook-cell:/c%3A/Users/sabin.purice/Google%20Drive/__DEFINIT/city-org/sync/catalogbucuresti.info/parse_details.ipynb#ch0000003?line=6'>7</a>\u001b[0m \u001b[39m# ----------------------------------------------------------\u001b[39;00m\n\u001b[1;32m----> <a href='vscode-notebook-cell:/c%3A/Users/sabin.purice/Google%20Drive/__DEFINIT/city-org/sync/catalogbucuresti.info/parse_details.ipynb#ch0000003?line=8'>9</a>\u001b[0m details \u001b[39m=\u001b[39m [parse_detail(\u001b[39mid\u001b[39;49m) \u001b[39mfor\u001b[39;00m \u001b[39mid\u001b[39m \u001b[39min\u001b[39;00m ids]\n\u001b[0;32m     <a href='vscode-notebook-cell:/c%3A/Users/sabin.purice/Google%20Drive/__DEFINIT/city-org/sync/catalogbucuresti.info/parse_details.ipynb#ch0000003?line=10'>11</a>\u001b[0m \u001b[39mwith\u001b[39;00m \u001b[39mopen\u001b[39m(\u001b[39m\"\u001b[39m\u001b[39mdetails.json\u001b[39m\u001b[39m\"\u001b[39m, \u001b[39m\"\u001b[39m\u001b[39mw\u001b[39m\u001b[39m\"\u001b[39m, encoding\u001b[39m=\u001b[39m\u001b[39m\"\u001b[39m\u001b[39mutf-8\u001b[39m\u001b[39m\"\u001b[39m) \u001b[39mas\u001b[39;00m fh:\n\u001b[0;32m     <a href='vscode-notebook-cell:/c%3A/Users/sabin.purice/Google%20Drive/__DEFINIT/city-org/sync/catalogbucuresti.info/parse_details.ipynb#ch0000003?line=11'>12</a>\u001b[0m     json\u001b[39m.\u001b[39mdump(details, fh, sort_keys\u001b[39m=\u001b[39m\u001b[39mTrue\u001b[39;00m, indent\u001b[39m=\u001b[39m\u001b[39m2\u001b[39m, ensure_ascii\u001b[39m=\u001b[39m\u001b[39mFalse\u001b[39;00m)\n",
      "\u001b[1;32mc:\\Users\\sabin.purice\\Google Drive\\__DEFINIT\\city-org\\sync\\catalogbucuresti.info\\parse_details.ipynb Cell 3'\u001b[0m in \u001b[0;36mparse_detail\u001b[1;34m(id)\u001b[0m\n\u001b[0;32m      <a href='vscode-notebook-cell:/c%3A/Users/sabin.purice/Google%20Drive/__DEFINIT/city-org/sync/catalogbucuresti.info/parse_details.ipynb#ch0000002?line=3'>4</a>\u001b[0m     soup \u001b[39m=\u001b[39m BeautifulSoup(fh\u001b[39m.\u001b[39mread(), features\u001b[39m=\u001b[39m\u001b[39m\"\u001b[39m\u001b[39mhtml.parser\u001b[39m\u001b[39m\"\u001b[39m)\n\u001b[0;32m      <a href='vscode-notebook-cell:/c%3A/Users/sabin.purice/Google%20Drive/__DEFINIT/city-org/sync/catalogbucuresti.info/parse_details.ipynb#ch0000002?line=5'>6</a>\u001b[0m \u001b[39m# IMAGES\u001b[39;00m\n\u001b[0;32m      <a href='vscode-notebook-cell:/c%3A/Users/sabin.purice/Google%20Drive/__DEFINIT/city-org/sync/catalogbucuresti.info/parse_details.ipynb#ch0000002?line=6'>7</a>\u001b[0m \u001b[39m# ------------------------------------------------------\u001b[39;00m\n\u001b[1;32m----> <a href='vscode-notebook-cell:/c%3A/Users/sabin.purice/Google%20Drive/__DEFINIT/city-org/sync/catalogbucuresti.info/parse_details.ipynb#ch0000002?line=7'>8</a>\u001b[0m images_soup \u001b[39m=\u001b[39m soup\u001b[39m.\u001b[39;49mfind(\u001b[39m\"\u001b[39;49m\u001b[39mdiv\u001b[39;49m\u001b[39m\"\u001b[39;49m, \u001b[39m\"\u001b[39;49m\u001b[39mmain-image-c\u001b[39;49m\u001b[39m\"\u001b[39;49m)\u001b[39m.\u001b[39;49mfind_all(\u001b[39m\"\u001b[39m\u001b[39mimg\u001b[39m\u001b[39m\"\u001b[39m)\n\u001b[0;32m      <a href='vscode-notebook-cell:/c%3A/Users/sabin.purice/Google%20Drive/__DEFINIT/city-org/sync/catalogbucuresti.info/parse_details.ipynb#ch0000002?line=8'>9</a>\u001b[0m images \u001b[39m=\u001b[39m [a[\u001b[39m\"\u001b[39m\u001b[39msrc\u001b[39m\u001b[39m\"\u001b[39m] \u001b[39mfor\u001b[39;00m a \u001b[39min\u001b[39;00m images_soup]\n\u001b[0;32m     <a href='vscode-notebook-cell:/c%3A/Users/sabin.purice/Google%20Drive/__DEFINIT/city-org/sync/catalogbucuresti.info/parse_details.ipynb#ch0000002?line=10'>11</a>\u001b[0m \u001b[39m# ZONA\u001b[39;00m\n\u001b[0;32m     <a href='vscode-notebook-cell:/c%3A/Users/sabin.purice/Google%20Drive/__DEFINIT/city-org/sync/catalogbucuresti.info/parse_details.ipynb#ch0000002?line=11'>12</a>\u001b[0m \u001b[39m# ------------------------------------------------------\u001b[39;00m\n",
      "\u001b[1;31mAttributeError\u001b[0m: 'NoneType' object has no attribute 'find_all'"
     ]
    }
   ],
   "source": [
    "# id = 2501\n",
    "# id = random.choice(ids)\n",
    "\n",
    "# with open(f\"./details-json/{id}.json\", \"w\", encoding=\"utf-8\") as fh:\n",
    "#     json.dump(parse_detail(id), fh, sort_keys=True, indent=2, ensure_ascii=False)\n",
    "\n",
    "# ----------------------------------------------------------\n",
    "\n",
    "details = [parse_detail(id) for id in ids]\n",
    "\n",
    "with open(\"details.json\", \"w\", encoding=\"utf-8\") as fh:\n",
    "    json.dump(details, fh, sort_keys=True, indent=2, ensure_ascii=False)\n",
    "\n",
    "print(\"== DONE ==\")"
   ]
  },
  {
   "cell_type": "code",
   "execution_count": 5,
   "metadata": {},
   "outputs": [
    {
     "ename": "NameError",
     "evalue": "name 'details' is not defined",
     "output_type": "error",
     "traceback": [
      "\u001b[1;31m---------------------------------------------------------------------------\u001b[0m",
      "\u001b[1;31mNameError\u001b[0m                                 Traceback (most recent call last)",
      "\u001b[1;32mc:\\Users\\sabin.purice\\Google Drive\\__DEFINIT\\city-org\\sync\\catalogbucuresti.info\\parse_details.ipynb Cell 5'\u001b[0m in \u001b[0;36m<cell line: 3>\u001b[1;34m()\u001b[0m\n\u001b[0;32m      <a href='vscode-notebook-cell:/c%3A/Users/sabin.purice/Google%20Drive/__DEFINIT/city-org/sync/catalogbucuresti.info/parse_details.ipynb#ch0000004?line=0'>1</a>\u001b[0m base_keys \u001b[39m=\u001b[39m \u001b[39mset\u001b[39m()\n\u001b[1;32m----> <a href='vscode-notebook-cell:/c%3A/Users/sabin.purice/Google%20Drive/__DEFINIT/city-org/sync/catalogbucuresti.info/parse_details.ipynb#ch0000004?line=2'>3</a>\u001b[0m \u001b[39mfor\u001b[39;00m d \u001b[39min\u001b[39;00m details:\n\u001b[0;32m      <a href='vscode-notebook-cell:/c%3A/Users/sabin.purice/Google%20Drive/__DEFINIT/city-org/sync/catalogbucuresti.info/parse_details.ipynb#ch0000004?line=3'>4</a>\u001b[0m     \u001b[39mfor\u001b[39;00m k, subs \u001b[39min\u001b[39;00m d\u001b[39m.\u001b[39mitems():\n\u001b[0;32m      <a href='vscode-notebook-cell:/c%3A/Users/sabin.purice/Google%20Drive/__DEFINIT/city-org/sync/catalogbucuresti.info/parse_details.ipynb#ch0000004?line=4'>5</a>\u001b[0m         \u001b[39mif\u001b[39;00m \u001b[39mtype\u001b[39m(subs) \u001b[39m==\u001b[39m \u001b[39mdict\u001b[39m:\n",
      "\u001b[1;31mNameError\u001b[0m: name 'details' is not defined"
     ]
    }
   ],
   "source": [
    "base_keys = set()\n",
    "\n",
    "for d in details:\n",
    "    for k, subs in d.items():\n",
    "        if type(subs) == dict:\n",
    "            for s in subs.keys():\n",
    "                k = k.lower().replace(\" \", \"-\")\n",
    "                s = s.lower().replace(\" \", \"-\")\n",
    "                base_keys.add(f\"{k}|{s}\")\n",
    "\n",
    "ic(base_keys)"
   ]
  }
 ],
 "metadata": {
  "interpreter": {
   "hash": "1c5eab3f3e3471b926d95bb55bd0df8049dae281b0932a01c1b0dc8b5526bfc7"
  },
  "kernelspec": {
   "display_name": "Python 3.10.4 ('.venv': poetry)",
   "language": "python",
   "name": "python3"
  },
  "language_info": {
   "codemirror_mode": {
    "name": "ipython",
    "version": 3
   },
   "file_extension": ".py",
   "mimetype": "text/x-python",
   "name": "python",
   "nbconvert_exporter": "python",
   "pygments_lexer": "ipython3",
   "version": "3.9.12"
  },
  "orig_nbformat": 4
 },
 "nbformat": 4,
 "nbformat_minor": 2
}
